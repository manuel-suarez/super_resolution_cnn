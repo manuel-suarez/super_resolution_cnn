{
  "nbformat": 4,
  "nbformat_minor": 0,
  "metadata": {
    "colab": {
      "name": "Seminario de Tesis III - SRCNN",
      "provenance": [],
      "collapsed_sections": [],
      "authorship_tag": "ABX9TyMeQdmuYUY5Y92Yzsi8gCSA",
      "include_colab_link": true
    },
    "kernelspec": {
      "name": "python3",
      "display_name": "Python 3"
    },
    "language_info": {
      "name": "python"
    }
  },
  "cells": [
    {
      "cell_type": "markdown",
      "metadata": {
        "id": "view-in-github",
        "colab_type": "text"
      },
      "source": [
        "<a href=\"https://colab.research.google.com/github/manuel-suarez/super_resolution_cnn/blob/main/Seminario_de_Tesis_III_SRCNN.ipynb\" target=\"_parent\"><img src=\"https://colab.research.google.com/assets/colab-badge.svg\" alt=\"Open In Colab\"/></a>"
      ]
    },
    {
      "cell_type": "markdown",
      "source": [
        "# Super-Resolution Convolutional Neural Network for Image Restoration\n",
        "Tutorial for: [S-RCNN for SRI](https://medium.datadriveninvestor.com/using-the-super-resolution-convolutional-neural-network-for-image-restoration-ff1e8420d846)"
      ],
      "metadata": {
        "id": "I_bv-wnFTK8U"
      }
    },
    {
      "cell_type": "markdown",
      "source": [
        "## 1.- Importing Packages"
      ],
      "metadata": {
        "id": "1ift6MfLA9RF"
      }
    },
    {
      "cell_type": "code",
      "execution_count": 1,
      "metadata": {
        "colab": {
          "base_uri": "https://localhost:8080/"
        },
        "id": "LTdOlxW-SZQk",
        "outputId": "81bfb58b-cff4-4f59-c8ee-31ccb24c0c41"
      },
      "outputs": [
        {
          "output_type": "stream",
          "name": "stdout",
          "text": [
            "Python: 3.7.13 (default, Apr 24 2022, 01:04:09) \n",
            "[GCC 7.5.0]\n",
            "Keras: 2.8.0\n",
            "OpenCV: 4.6.0\n",
            "NumPy: 1.21.6\n",
            "Matplotlib: 3.2.2\n",
            "Scikit-Image: 0.18.3\n"
          ]
        }
      ],
      "source": [
        "# Check package versions\n",
        "import sys\n",
        "import keras\n",
        "import cv2\n",
        "import numpy\n",
        "import matplotlib\n",
        "import skimage\n",
        "\n",
        "print('Python: {}'.format(sys.version))\n",
        "print('Keras: {}'.format(keras.__version__))\n",
        "print('OpenCV: {}'.format(cv2.__version__))\n",
        "print('NumPy: {}'.format(numpy.__version__))\n",
        "print('Matplotlib: {}'.format(matplotlib.__version__))\n",
        "print('Scikit-Image: {}'.format(skimage.__version__))"
      ]
    },
    {
      "cell_type": "code",
      "source": [
        "from tensorflow.keras.models import Sequential\n",
        "from tensorflow.keras.layers import Conv2D\n",
        "from tensorflow.keras.optimizers import Adam\n",
        "from skimage.metrics import structural_similarity as ssim\n",
        "from matplotlib import pyplot as plt\n",
        "import cv2\n",
        "import numpy as np\n",
        "import math\n",
        "import os\n",
        "\n",
        "# python magic function, displays\n",
        "%matplotlib inline"
      ],
      "metadata": {
        "id": "bVVRZUNQS00A"
      },
      "execution_count": 4,
      "outputs": []
    },
    {
      "cell_type": "markdown",
      "source": [
        "## 2.- Image Quality Metrics"
      ],
      "metadata": {
        "id": "Y8ozGXGcBBzM"
      }
    },
    {
      "cell_type": "code",
      "source": [
        "# define a function for peak signal-to-noise ratio (PSNR)\n",
        "def psnr(target, ref):\n",
        "  # assume RGB image\n",
        "  target_data = target.astype(float)\n",
        "  ref_data = ref.astype(float)\n",
        "\n",
        "  diff = ref_data - target_data\n",
        "  diff = diff.flatten('C')\n",
        "\n",
        "  rmse = math.sqrt(np.mean(diff ** 2.))\n",
        "\n",
        "  return 20 * math.log10(255. / rmse)\n",
        "\n",
        "# define function for mean squared error (MSE)\n",
        "def mse(target, ref):\n",
        "  # the MSE between the two images is the sum of the squared difference between the two images\n",
        "  err = np.sum((target.astype('float') - ref.astype('float')) ** 2)\n",
        "  err /= float(target.shape[0] * target.shape[1])\n",
        "\n",
        "  return err\n",
        "\n",
        "# define function that combines all three image quality metrics\n",
        "def compare_images(target, ref):\n",
        "  scores = []\n",
        "  scores.append(psnr(target, ref))\n",
        "  scores.append(mse(target, ref))\n",
        "  scores.append(ssim(target, ref, multichannel=True))\n",
        "\n",
        "  return scores"
      ],
      "metadata": {
        "id": "1bZOy40AAVjN"
      },
      "execution_count": 5,
      "outputs": []
    },
    {
      "cell_type": "markdown",
      "source": [
        "## 3.- Preparing images"
      ],
      "metadata": {
        "id": "bemlQA4bCKcd"
      }
    },
    {
      "cell_type": "code",
      "source": [
        "# prepare degraded images by introducing quality distortions via resizing\n",
        "def prepare_images(path, factor):\n",
        "  # loop through the files in the directory\n",
        "  for file in os.listdir(path):\n",
        "    # open the file\n",
        "    img = cv2.imread(path + '/' + file)\n",
        "\n",
        "    # find old and new image dimensions\n",
        "    h, w, _ = img.shape\n",
        "    new_height = int(h / factor)\n",
        "    new_width = int(w / factor)\n",
        "    dim = (new_width, new_height)\n",
        "\n",
        "    # resize the image - down\n",
        "    img = cv2.resize(img, dim, interpolation = cv2.INTER_LINEAR)\n",
        "\n",
        "    # resize the image - up\n",
        "    img = cv2.resize(img, (w, h), interpolation = cv2.INTER_LINEAR)\n",
        "\n",
        "    # save the image\n",
        "    print('Saving {}'.format(file))\n",
        "    cv2.imwrite('images/{}'.format(file), img)\n",
        "\n",
        "prepare_images('source/', 2)"
      ],
      "metadata": {
        "colab": {
          "base_uri": "https://localhost:8080/"
        },
        "id": "KEMWLOw_C0NM",
        "outputId": "54cceeb3-03e2-49f5-cac5-fd084f89cd97"
      },
      "execution_count": 20,
      "outputs": [
        {
          "output_type": "stream",
          "name": "stdout",
          "text": [
            "Saving bird_GT.bmp\n",
            "Saving face.bmp\n",
            "Saving lenna.bmp\n",
            "Saving coastguard.bmp\n",
            "Saving baboon.bmp\n",
            "Saving pepper.bmp\n",
            "Saving zebra.bmp\n",
            "Saving bridge.bmp\n",
            "Saving ppt3.bmp\n",
            "Saving flowers.bmp\n",
            "Saving monarch.bmp\n",
            "Saving butterfly_GT.bmp\n",
            "Saving barbara.bmp\n",
            "Saving baby_GT.bmp\n",
            "Saving man.bmp\n",
            "Saving comic.bmp\n",
            "Saving woman_GT.bmp\n",
            "Saving head_GT.bmp\n",
            "Saving foreman.bmp\n"
          ]
        }
      ]
    },
    {
      "cell_type": "markdown",
      "source": [
        "## 3.- Testing Low-Resolution Images"
      ],
      "metadata": {
        "id": "xjs472_2W1JB"
      }
    },
    {
      "cell_type": "code",
      "source": [
        "# test the generated images using the image quality metrics\n",
        "for file in os.listdir('images/'):\n",
        "  # open target and reference images\n",
        "  target = cv2.imread('images/{}'.format(file))\n",
        "  ref = cv2.imread('source/{}'.format(file))\n",
        "\n",
        "  # calculate score\n",
        "  scores = compare_images(target, ref)\n",
        "\n",
        "  # print all three scores with new line characters (\\n)\n",
        "  print('{}\\nPSN: {}\\nMSE: {}\\nSSIM: {}\\n'.format(file, scores[0], scores[1], scores[2]))"
      ],
      "metadata": {
        "colab": {
          "base_uri": "https://localhost:8080/"
        },
        "id": "HMxq55X-DsJe",
        "outputId": "51d9021e-4673-4104-9a5f-fd6452b91b7a"
      },
      "execution_count": 22,
      "outputs": [
        {
          "output_type": "stream",
          "name": "stdout",
          "text": [
            "bird_GT.bmp\n",
            "PSN: 32.896644728720005\n",
            "MSE: 100.12375819830247\n",
            "SSIM: 0.9533644866026473\n",
            "\n",
            "face.bmp\n",
            "PSN: 30.99220650287191\n",
            "MSE: 155.23189718546524\n",
            "SSIM: 0.8008439492289884\n",
            "\n",
            "lenna.bmp\n",
            "PSN: 31.47349297867539\n",
            "MSE: 138.94800567626953\n",
            "SSIM: 0.8460989200521499\n",
            "\n",
            "coastguard.bmp\n",
            "PSN: 27.161600663887082\n",
            "MSE: 375.00887784090907\n",
            "SSIM: 0.756950063354931\n",
            "\n",
            "baboon.bmp\n",
            "PSN: 22.157084083442548\n",
            "MSE: 1187.1161333333334\n",
            "SSIM: 0.629277587900277\n",
            "\n",
            "pepper.bmp\n",
            "PSN: 29.88947161686106\n",
            "MSE: 200.1033935546875\n",
            "SSIM: 0.8357937568464359\n",
            "\n",
            "zebra.bmp\n",
            "PSN: 27.909840639329513\n",
            "MSE: 315.6585459528818\n",
            "SSIM: 0.8911656209329116\n",
            "\n",
            "bridge.bmp\n",
            "PSN: 25.850528790115554\n",
            "MSE: 507.1643714904785\n",
            "SSIM: 0.7804245912255268\n",
            "\n",
            "ppt3.bmp\n",
            "PSN: 24.84926168950471\n",
            "MSE: 638.6684263912582\n",
            "SSIM: 0.9284023942315316\n",
            "\n",
            "flowers.bmp\n",
            "PSN: 27.454504805386144\n",
            "MSE: 350.55093922651935\n",
            "SSIM: 0.8697286286974628\n",
            "\n",
            "monarch.bmp\n",
            "PSN: 30.196242365288896\n",
            "MSE: 186.45643615722656\n",
            "SSIM: 0.9439574293434104\n",
            "\n",
            "butterfly_GT.bmp\n",
            "PSN: 24.782076560337416\n",
            "MSE: 648.6254119873047\n",
            "SSIM: 0.8791344763843051\n",
            "\n",
            "barbara.bmp\n",
            "PSN: 25.906629837568126\n",
            "MSE: 500.65508535879627\n",
            "SSIM: 0.8098632646406401\n",
            "\n",
            "baby_GT.bmp\n",
            "PSN: 34.371806409661986\n",
            "MSE: 71.28874588012695\n",
            "SSIM: 0.9356987872724932\n",
            "\n",
            "man.bmp\n",
            "PSN: 27.22646369798821\n",
            "MSE: 369.4496383666992\n",
            "SSIM: 0.8214950645456561\n",
            "\n",
            "comic.bmp\n",
            "PSN: 23.799861502225532\n",
            "MSE: 813.2338836565096\n",
            "SSIM: 0.8347335416398209\n",
            "\n",
            "woman_GT.bmp\n",
            "PSN: 29.326236280817465\n",
            "MSE: 227.812729498164\n",
            "SSIM: 0.9335397280466592\n",
            "\n",
            "head_GT.bmp\n",
            "PSN: 31.020502848237534\n",
            "MSE: 154.2237755102041\n",
            "SSIM: 0.8011121330733371\n",
            "\n",
            "foreman.bmp\n",
            "PSN: 30.14456532664372\n",
            "MSE: 188.6883483270202\n",
            "SSIM: 0.933268417388899\n",
            "\n"
          ]
        }
      ]
    },
    {
      "cell_type": "markdown",
      "source": [
        "## 4.- Building the SRCNN Model"
      ],
      "metadata": {
        "id": "PTeOOeCeYcDB"
      }
    },
    {
      "cell_type": "code",
      "source": [
        "# define the SRCNN model\n",
        "def model():\n",
        "  # define model type\n",
        "  SRCNN = Sequential()\n",
        "\n",
        "  # add model layers\n",
        "  SRCNN.add(Conv2D(filters=128, \n",
        "                   kernel_size=(9,9), \n",
        "                   kernel_initializer='glorot_uniform',\n",
        "                   activation='relu',\n",
        "                   padding='valid',\n",
        "                   use_bias=True,\n",
        "                   input_shape=(None, None, 1)))\n",
        "  SRCNN.add(Conv2D(filters=64,\n",
        "                   kernel_size=(3,3),\n",
        "                   kernel_initializer='glorot_uniform',\n",
        "                   activation='relu',\n",
        "                   padding='same',\n",
        "                   use_bias=True))\n",
        "  SRCNN.add(Conv2D(filters=1,\n",
        "                   kernel_size=(5,5),\n",
        "                   kernel_initializer='glorot_uniform',\n",
        "                   activation='linear',\n",
        "                   padding='valid',\n",
        "                   use_bias=True))\n",
        "  \n",
        "  # define optimizer\n",
        "  adam = Adam(lr=0.0003)\n",
        "\n",
        "  # compile model\n",
        "  SRCNN.compile(optimizer=adam, loss='mean_squared_error', metrics=['mean_squared_error'])\n",
        "\n",
        "  return SRCNN"
      ],
      "metadata": {
        "id": "YNpvC8aSXlGA"
      },
      "execution_count": 23,
      "outputs": []
    },
    {
      "cell_type": "markdown",
      "source": [
        "## 5.- Deploying the SRCNN"
      ],
      "metadata": {
        "id": "-MRSfYUIZa6L"
      }
    },
    {
      "cell_type": "code",
      "source": [
        ""
      ],
      "metadata": {
        "id": "aO3ESdLaZaKP"
      },
      "execution_count": null,
      "outputs": []
    }
  ]
}